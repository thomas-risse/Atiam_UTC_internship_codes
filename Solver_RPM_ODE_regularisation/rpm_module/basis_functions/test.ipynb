{
 "cells": [
  {
   "cell_type": "markdown",
   "metadata": {},
   "source": [
    "# Tests for submodule basis_functions"
   ]
  },
  {
   "cell_type": "code",
   "execution_count": 75,
   "metadata": {},
   "outputs": [
    {
     "name": "stdout",
     "output_type": "stream",
     "text": [
      "The autoreload extension is already loaded. To reload it, use:\n",
      "  %reload_ext autoreload\n"
     ]
    }
   ],
   "source": [
    "#Imports \n",
    "import numpy as np\n",
    "import basis as bf\n",
    "import matplotlib.pyplot as plt\n",
    "\n",
    "%load_ext autoreload\n",
    "%autoreload 2"
   ]
  },
  {
   "cell_type": "markdown",
   "metadata": {},
   "source": [
    "### Tests for template class"
   ]
  },
  {
   "cell_type": "code",
   "execution_count": 76,
   "metadata": {},
   "outputs": [],
   "source": [
    "# Number of basis elements\n",
    "n_basis = 3\n",
    "# Initialization of the class\n",
    "basis_template = bf.Basis(n_basis=n_basis)\n"
   ]
  },
  {
   "cell_type": "code",
   "execution_count": 77,
   "metadata": {},
   "outputs": [
    {
     "name": "stdout",
     "output_type": "stream",
     "text": [
      "Phi[0]([0.   0.25 0.5  0.75 1.  ]) = [0.   0.25 0.5  0.75 1.  ]\n",
      "Phi[1]([0.   0.25 0.5  0.75 1.  ]) = [1.   1.25 1.5  1.75 2.  ]\n",
      "Phi[2]([0.   0.25 0.5  0.75 1.  ]) = [2.   2.25 2.5  2.75 3.  ]\n"
     ]
    }
   ],
   "source": [
    "# Separated functions evaluation\n",
    "# Test array\n",
    "x = np.linspace(0,1,5)\n",
    "# Compute and print results\n",
    "for i in range(n_basis):\n",
    "    y = basis_template.basis_functions[i](x)\n",
    "    print(f\"Phi[{i}]({x}) = {y}\")"
   ]
  },
  {
   "cell_type": "code",
   "execution_count": 78,
   "metadata": {},
   "outputs": [
    {
     "name": "stdout",
     "output_type": "stream",
     "text": [
      "Results of the evaluation of basis functions at points [0.   0.25 0.5  0.75 1.  ] : \n",
      " [[0.   1.   2.  ]\n",
      " [0.25 1.25 2.25]\n",
      " [0.5  1.5  2.5 ]\n",
      " [0.75 1.75 2.75]\n",
      " [1.   2.   3.  ]]\n"
     ]
    }
   ],
   "source": [
    "# Evaluate all functions at once\n",
    "y = basis_template.evaluate_all(x)\n",
    "print(f\"Results of the evaluation of basis functions at points {x} : \\n {y}\")"
   ]
  },
  {
   "cell_type": "markdown",
   "metadata": {},
   "source": [
    "### Tests for Legendre polynomials class"
   ]
  },
  {
   "cell_type": "code",
   "execution_count": 79,
   "metadata": {},
   "outputs": [],
   "source": [
    "# Number of basis elements\n",
    "n_basis = 3\n",
    "# Initialization of the class\n",
    "basis_leg = bf.ShiftedLegendrePolys(n_basis=n_basis)"
   ]
  },
  {
   "cell_type": "code",
   "execution_count": 80,
   "metadata": {},
   "outputs": [
    {
     "name": "stdout",
     "output_type": "stream",
     "text": [
      "Phi[0]([0.   0.25 0.5  0.75 1.  ]) = [1. 1. 1. 1. 1.]\n",
      "Phi[1]([0.   0.25 0.5  0.75 1.  ]) = [-3.  -1.5  0.   1.5  3. ]\n",
      "Phi[2]([0.   0.25 0.5  0.75 1.  ]) = [ 5.    -0.625 -2.5   -0.625  5.   ]\n"
     ]
    }
   ],
   "source": [
    "# Separated functions evaluation\n",
    "# Test array\n",
    "x = np.linspace(0,1,5)\n",
    "# Compute and print results\n",
    "for i in range(n_basis):\n",
    "    y = basis_leg.basis_functions[i](x)\n",
    "    print(f\"Phi[{i}]({x}) = {y}\")"
   ]
  },
  {
   "cell_type": "code",
   "execution_count": 81,
   "metadata": {},
   "outputs": [
    {
     "name": "stdout",
     "output_type": "stream",
     "text": [
      "Results of the evaluation of basis functions at points [0.   0.25 0.5  0.75 1.  ] : \n",
      " [[ 1.    -3.     5.   ]\n",
      " [ 1.    -1.5   -0.625]\n",
      " [ 1.     0.    -2.5  ]\n",
      " [ 1.     1.5   -0.625]\n",
      " [ 1.     3.     5.   ]]\n"
     ]
    }
   ],
   "source": [
    "# Evaluate all functions at once\n",
    "y = basis_leg.evaluate_all(x)\n",
    "print(f\"Results of the evaluation of basis functions at points {x} : \\n {y}\")"
   ]
  },
  {
   "cell_type": "code",
   "execution_count": 82,
   "metadata": {},
   "outputs": [
    {
     "data": {
      "text/plain": [
       "<matplotlib.legend.Legend at 0x7f27a475fd60>"
      ]
     },
     "execution_count": 82,
     "metadata": {},
     "output_type": "execute_result"
    },
    {
     "data": {
      "image/png": "[encoded data removed]",
      "text/plain": [
       "<Figure size 432x288 with 1 Axes>"
      ]
     },
     "metadata": {
      "needs_background": "light"
     },
     "output_type": "display_data"
    }
   ],
   "source": [
    "#Plot the basis \n",
    "x = np.linspace(0,1,100)\n",
    "plt.plot(x, basis_leg.evaluate_all(x), label=np.arange(n_basis)+1)\n",
    "plt.title(f\"Normalized Legendre polynomial basis of order {n_basis}\")\n",
    "plt.legend()"
   ]
  },
  {
   "cell_type": "code",
   "execution_count": null,
   "metadata": {},
   "outputs": [],
   "source": []
  }
 ],
 "metadata": {
  "interpreter": {
   "hash": "e79cd7cccce0edb7ce1f8bb3e1f52ea26e8fff72d9eb49869062fa776612280f"
  },
  "kernelspec": {
   "display_name": "Python 3.9.7 ('RPMtest')",
   "language": "python",
   "name": "python3"
  },
  "language_info": {
   "codemirror_mode": {
    "name": "ipython",
    "version": 3
   },
   "file_extension": ".py",
   "mimetype": "text/x-python",
   "name": "python",
   "nbconvert_exporter": "python",
   "pygments_lexer": "ipython3",
   "version": "3.9.7"
  },
  "orig_nbformat": 4
 },
 "nbformat": 4,
 "nbformat_minor": 2
}
