{
 "cells": [
  {
   "cell_type": "markdown",
   "metadata": {},
   "source": [
    "# Vocal tract results analysis\n",
    "This notebook is used to analyse the results of the simulations of the vocal tract excited by a dirac."
   ]
  },
  {
   "cell_type": "code",
   "execution_count": 13,
   "metadata": {},
   "outputs": [
    {
     "name": "stdout",
     "output_type": "stream",
     "text": [
      "The autoreload extension is already loaded. To reload it, use:\n",
      "  %reload_ext autoreload\n"
     ]
    }
   ],
   "source": [
    "# Imports\n",
    "%load_ext autoreload\n",
    "%autoreload 2\n",
    "#%matplotlib qt\n",
    "import numpy as np\n",
    "import matplotlib.pyplot as plt\n",
    "from IPython.display import display\n",
    "import sympy as sp\n",
    "import pickle\n",
    "\n",
    "import os, sys\n",
    "\n",
    "#Direct input \n",
    "plt.rcParams['text.latex.preamble']= r\"\\usepackage{color}\"\n",
    "#Options\n",
    "params = {'text.usetex' : True,\n",
    "          'font.size' : 18,\n",
    "          'font.family' : 'lmodern',\n",
    "          'ps.usedistiller' : 'xpdf'\n",
    "          }\n",
    "plt.rcParams.update(params) \n",
    "\n",
    "p = os.path.abspath('..')\n",
    "sys.path.insert(1, p)\n",
    "\n",
    "import rpm_solver as solver\n",
    "import models\n",
    "import matplotlib as mpl\n",
    "%matplotlib qt5"
   ]
  },
  {
   "cell_type": "code",
   "execution_count": 14,
   "metadata": {},
   "outputs": [],
   "source": [
    "# General functions\n",
    "def mean_state(x):\n",
    "    \"\"\"Returns middle values of x for each frame\n",
    "    (case n_proj = 1)\n",
    "\n",
    "    Args:\n",
    "        x (array): array\n",
    "\n",
    "    Returns:\n",
    "        array: middle values\n",
    "    \"\"\"\n",
    "    return (x[:-1]+x[1:])/2\n",
    "\n",
    "def plot_responses(filenames, log = False):\n",
    "    fig = plt.figure(figsize=(12, 6))\n",
    "    plt.xlabel('Frequency (Hz)')\n",
    "    plt.ylabel('Gain (dB)')\n",
    "    plots = [0 for i in range(len(filenames))]\n",
    "\n",
    "    nfiles = len(filenames)\n",
    "    \n",
    "    norm = mpl.colors.Normalize(vmin=-2, vmax = nfiles-1)\n",
    "    cmap = mpl.cm.ScalarMappable(norm=norm, cmap=mpl.cm.PuRd)\n",
    "\n",
    "    for i, filename in enumerate(filenames):\n",
    "        with open(filename, 'rb') as f:\n",
    "            data = pickle.load(f)\n",
    "        #input_mass_flow = mean_state(data['Inputs'][:, 0, 0])\n",
    "        input_mass_flow = data['Outputs'][:, 0, 0]\n",
    "        #output_mass_flow = mean_state(data['Dissipations flows'][:, -1, 0])\n",
    "        output_mass_flow = data['Dissipations flows'][:, -1, 0]\n",
    "        sr = data['Parameters']['fs']\n",
    "        # Frequency vector\n",
    "        f = np.linspace(0, sr/2, int(np.floor(len(input_mass_flow)/2)+1))\n",
    "        FFT_in = np.fft.fft(input_mass_flow)[0:int(np.floor(len(input_mass_flow)/2)+1)]\n",
    "        FFT_out = np.fft.fft(output_mass_flow)[0:int(np.floor(len(input_mass_flow)/2)+1)]\n",
    "\n",
    "        #Transfer function\n",
    "        H = 10*np.log10(np.abs(FFT_out)/np.abs(FFT_in))\n",
    "        N_tracts = data['Parameters']['Tracts']\n",
    "        plots[i] = plt.plot(f, H, label = r'$N_{tract} = N_tracts$'.replace('N_tracts', f\"{N_tracts}\"), color = cmap.to_rgba(i))\n",
    "    plt.gca().legend(loc='upper center', bbox_to_anchor=(0.5, -0.15),\n",
    "          fancybox=True, shadow=True, ncol=4)\n",
    "    if log:\n",
    "        plt.xscale('log')\n",
    "    plt.tight_layout()\n",
    "    return fig, plots\n"
   ]
  },
  {
   "cell_type": "markdown",
   "metadata": {},
   "source": [
    "## Case Ntract = 10\n",
    "We look at the differences in the results with a fixed number of tracts but a varying simulation sampling frequency."
   ]
  },
  {
   "cell_type": "code",
   "execution_count": null,
   "metadata": {},
   "outputs": [],
   "source": [
    "# Filenames of the simulation results\n",
    "filenames = [f'results/dirac/10_tracts/{sr}_Hz.pkl' for sr in [2000, 5000, 10000, 20000]]\n",
    "\n",
    "# Transfer functions\n",
    "fig1, plots1 = plot_responses(filenames, log=False)\n",
    "plt.xlim(0, 12500)\n",
    "plt.ylim(-10, 7)\n",
    "#fig1.suptitle('Transfer functions for 10 tracts with varying sampling frequency')"
   ]
  },
  {
   "cell_type": "markdown",
   "metadata": {},
   "source": [
    "## Case sr = 20000 Hz, varying number of tracts\n",
    "Here, we fix the sampling frequency at 20000 Hz and we change the number of tract used for the simulation."
   ]
  },
  {
   "cell_type": "code",
   "execution_count": null,
   "metadata": {},
   "outputs": [],
   "source": [
    "# Filenames of the simulation results\n",
    "filenames = [f'results/dirac/40kHz/{N}_tracts_enthalpy_1_idealrad.pkl' for N in [2*(i+1) for i in range(8)]]\n",
    "\n",
    "# Transfer functionsOutputs\n",
    "fig2, plots2 = plot_responses(filenames, log=False)\n",
    "#fig2.suptitle('Transfer functions for N tracts with fixed sampling frequency')\n",
    "plt.xlim(0, 12500)\n",
    "plt.ylim(-10, 7)\n",
    "plt.vlines([1000*i for i in range(20)], -10, 7, linestyles='--')"
   ]
  },
  {
   "cell_type": "markdown",
   "metadata": {},
   "source": [
    "## Quadrature order"
   ]
  },
  {
   "cell_type": "code",
   "execution_count": null,
   "metadata": {},
   "outputs": [],
   "source": [
    "# Filenames of the simulation results\n",
    "orders = [1, 2, 4, 8, 16]\n",
    "filenames = [f'results/dirac/quad_orders/{order}.pkl' for order in orders]\n",
    "\n",
    "# Transfer functions\n",
    "fig4, plots4 = plot_responses(filenames, log=False)\n",
    "for i, plot in enumerate(plots4):\n",
    "    plot[0].set_label(f'Quadrature order = {orders[i]}')\n",
    "    plt.legend()\n",
    "\n",
    "fig4.suptitle('Transfer functions for 17 tracts with changing quadrature order')"
   ]
  },
  {
   "cell_type": "markdown",
   "metadata": {},
   "source": [
    "## A nice example : 10 tracts with quadrature order 4 and fs = 40kHz"
   ]
  },
  {
   "cell_type": "code",
   "execution_count": null,
   "metadata": {},
   "outputs": [],
   "source": [
    "# Transfer functions\n",
    "fig5, plots5 = plot_responses(['results/dirac/10_tracts_40k_quad4.pkl'], log=False)\n",
    "\n",
    "fig5.suptitle('Transfer function for 10 tracts, fs = 40 kHz')\n",
    "plt.xlim([0, 10000])\n",
    "plt.ylim([-3, 5])"
   ]
  },
  {
   "cell_type": "markdown",
   "metadata": {},
   "source": [
    "## Analysis of oscillations due to the constraints"
   ]
  },
  {
   "cell_type": "code",
   "execution_count": null,
   "metadata": {},
   "outputs": [],
   "source": [
    "from cProfile import label\n",
    "\n",
    "%matplotlib qt5\n",
    "with open('results/dirac/40kHz/2_tracts_vflow.pkl', 'rb') as f:\n",
    "    data = pickle.load(f)\n",
    "    t = data[\"Time\"]\n",
    "    Pstored = data[\"Pstored\"]\n",
    "    Pdiss = data[\"Pdiss\"]\n",
    "    Pext  = data[\"Pext\"]\n",
    "    Ptot = data[\"Ptot\"]\n",
    "    #input_mass_flow = mean_state(data['Inputs'][:, 0, 0])\n",
    "    input_mass_flow = data['Inputs'][:, 0, 0]\n",
    "    #output_mass_flow = mean_state(data['Dissipations flows'][:, -1, 0])\n",
    "    output_mass_flow = data['Dissipations flows'][:, -1, 0]\n",
    "    sr = data['Parameters']['fs']\n",
    "plt.figure()\n",
    "#plt.plot(t, Pstored, label=r'$P_{stock}$')\n",
    "#plt.plot(t, Pdiss, label=r'$P_{diss}$')\n",
    "#plt.plot(t, Pext, label=r'$P_{ext}$')\n",
    "#plt.plot(t, Ptot, label=r'$P_{tot}$', c='r')\n",
    "plt.plot(mean_state(t), mean_state(Pstored), label=r'$P_{stock}$')\n",
    "plt.plot(mean_state(t), mean_state(Pdiss), label=r'$P_{diss}$')\n",
    "plt.plot(mean_state(t), mean_state(Pext), label=r'$P_{ext}$')\n",
    "plt.plot(mean_state(t), mean_state(Ptot), label=r'$P_{tot}$', c='r')\n",
    "plt.xlabel(r\"Temps (s)\")\n",
    "plt.ylabel(r\"Puissance (W)\")\n",
    "plt.xlim(0, 10e-3)\n",
    "plt.legend()"
   ]
  },
  {
   "cell_type": "code",
   "execution_count": 63,
   "metadata": {},
   "outputs": [],
   "source": [
    "with open('results/dirac/40kHz/2_tracts_vflow.pkl', 'rb') as f:\n",
    "    data = pickle.load(f)\n",
    "    t = data[\"Time\"]\n",
    "    Pstored = data[\"Pstored\"]\n",
    "    Pdiss = data[\"Pdiss\"]\n",
    "    Pext  = data[\"Pext\"]\n",
    "    Ptot = data[\"Ptot\"]\n",
    "    E1 = data[\"Projected gradH\"][:, 1]\n",
    "    E2 = data[\"Projected gradH\"][:, 6]\n",
    "    #input_mass_flow = mean_state(data['Inputs'][:, 0, 0])\n",
    "    input_mass_flow = data['Outputs'][:, 0, 0]\n",
    "    qL1 = data['States'][:,6]\n",
    "    qR2 = data['States'][:,7]\n",
    "    flows = data['States flows']\n",
    "    #output_mass_flow = mean_state(data['Dissipations flows'][:, -1, 0])\n",
    "    output_mass_flow = data['Dissipations flows'][:, -1, 0]\n",
    "    sr = data['Parameters']['fs']\n",
    "plt.figure()\n",
    "#plt.plot(t, Pstored, label=r'$P_{stored}$')\n",
    "#plt.plot(t, Pdiss, label=r'$P_{diss}$')\n",
    "#plt.plot(t, Pext, label=r'$P_{ext}$')\n",
    "#plt.plot(t, Ptot, label=r'$P_{tot}$', color='r')\n",
    "plt.plot(mean_state(t), mean_state(qL1), label=r'$\\nu_R^1$')\n",
    "plt.plot(mean_state(t), mean_state(qR2), label=r'$\\nu_L^2$')\n",
    "#plt.plot(t, qL1, label=r'$\\nu_R^1$')\n",
    "#plt.plot(t, qR2, label=r'$\\nu_L^2$')\n",
    "#plt.plot(t, qR, label=r'$\\nu_R^1$')\n",
    "plt.xlabel(r\"Temps (s)\")\n",
    "plt.ylabel(r\"Débit surfacique ($m^2.s^{-1}$)\")\n",
    "plt.xlim(0, 10e-3)\n",
    "#plt.ylim(-1e-12, 4e-12)\n",
    "#plt.title('p=4')\n",
    "plt.legend()\n",
    "plt.tight_layout()"
   ]
  }
 ],
 "metadata": {
  "kernelspec": {
   "display_name": "Python 3 (ipykernel)",
   "language": "python",
   "name": "python3"
  },
  "language_info": {
   "codemirror_mode": {
    "name": "ipython",
    "version": 3
   },
   "file_extension": ".py",
   "mimetype": "text/x-python",
   "name": "python",
   "nbconvert_exporter": "python",
   "pygments_lexer": "ipython3",
   "version": "3.9.7"
  },
  "vscode": {
   "interpreter": {
    "hash": "cc8359b43f1f6fd0d086bd9907b7487d1ed31f2f4747e43d1a31f0ae22209771"
   }
  }
 },
 "nbformat": 4,
 "nbformat_minor": 4
}
