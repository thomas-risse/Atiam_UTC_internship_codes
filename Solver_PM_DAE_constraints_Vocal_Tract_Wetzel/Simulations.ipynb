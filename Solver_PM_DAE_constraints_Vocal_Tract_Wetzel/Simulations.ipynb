{
 "cells": [
  {
   "cell_type": "markdown",
   "metadata": {},
   "source": [
    "# Vocal apparatus V. Wetzel Simulations\n",
    "This notebook is used to run simulations od the vocal tract and store results for later analysis."
   ]
  },
  {
   "cell_type": "code",
   "execution_count": 1,
   "metadata": {},
   "outputs": [],
   "source": [
    "%load_ext autoreload\n",
    "%autoreload 2\n",
    "import numpy as np\n",
    "import matplotlib.pyplot as plt\n",
    "from IPython.display import display\n",
    "import sympy as sp\n",
    "\n",
    "import os, sys\n",
    "\n",
    "p = os.path.abspath('..')\n",
    "sys.path.insert(1, p)\n",
    "\n",
    "import rpm_solver as solver\n",
    "import models\n",
    "import vocal_tract.Articulation as art\n",
    "from scipy.io.wavfile import write"
   ]
  },
  {
   "cell_type": "markdown",
   "metadata": {},
   "source": [
    "# Dirac excitation"
   ]
  },
  {
   "cell_type": "markdown",
   "metadata": {},
   "source": [
    "## Multiple tracts (non shifted), case N_tract= 10, change of sampling frequency"
   ]
  },
  {
   "cell_type": "code",
   "execution_count": 2,
   "metadata": {},
   "outputs": [],
   "source": [
    "# Geometry parameters and model initialization\n",
    "N = 10\n",
    "l0 = 0.17/(2*N)\n",
    "L0 = 0.01\n",
    "Sw = 2*l0*L0\n",
    "k_s = 4e6\n",
    "k = 845 #k_s*Sw\n",
    "r = 0.8\n",
    "h0 = 1e-2\n",
    "\n",
    "model = models.MultipleTractsWithWalls(N, l0, Sw, k, r)"
   ]
  },
  {
   "cell_type": "code",
   "execution_count": 3,
   "metadata": {},
   "outputs": [],
   "source": [
    "# Initialization and input signals\n",
    "rhoInit = model.rho0\n",
    "hInit = L0\n",
    "mInit = rhoInit*model.Sw*hInit\n",
    "\n",
    "init = np.zeros(model.n_state)\n",
    "\n",
    "for i in range(N):\n",
    "    init[i*6+3] = Sw * model.rho0 * h0 \n",
    "    init[i*6+4] = h0 \n"
   ]
  },
  {
   "cell_type": "code",
   "execution_count": 17,
   "metadata": {},
   "outputs": [
    {
     "name": "stdout",
     "output_type": "stream",
     "text": [
      "Mean number of NR iterations : 3.005\n",
      "Max number of NR iterations : 4.0,              step index : 1\n",
      "Simulation for sr = 2000 Hz finished\n",
      "Mean number of NR iterations : 3.0\n",
      "Max number of NR iterations : 3.0,              step index : 0\n",
      "Simulation for sr = 5000 Hz finished\n",
      "Mean number of NR iterations : 3.0\n",
      "Max number of NR iterations : 3.0,              step index : 0\n",
      "Simulation for sr = 10000 Hz finished\n",
      "Mean number of NR iterations : 3.0\n",
      "Max number of NR iterations : 3.0,              step index : 0\n",
      "Simulation for sr = 20000 Hz finished\n"
     ]
    }
   ],
   "source": [
    "# Simulations loop\n",
    "duration = 0.1\n",
    "\n",
    "srs = [2000, 5000, 10000, 20000]\n",
    "\n",
    "for sr in srs:\n",
    "    timestep = 1/sr\n",
    "    rpmsolver = solver.RPMSolverPHS(model, 1, 1, timestep, max_iter=200,  epsilon = 10**(-10), quad_order = 100)\n",
    "\n",
    "    # Dirac excitation\n",
    "    def input_signal(t):\n",
    "        sig = np.zeros((len(t), model.n_io))\n",
    "        sig[:, 0] =   2e-4 * (t<1/sr)\n",
    "        return sig\n",
    "    proj_input_signal = solver.adc_dac.discretize_Bo0(rpmsolver, input_signal, duration)\n",
    "\n",
    "    xframes, dx_proj, w_proj, y_proj, lambda_proj, iters = rpmsolver.simulate(init, duration, proj_input_signal, f'results/dirac/10_tracts/{sr}_Hz.pkl')\n",
    "    print(f'Simulation for sr = {sr} Hz finished')"
   ]
  },
  {
   "cell_type": "markdown",
   "metadata": {},
   "source": [
    "## Multiple tracts (non shifted), case sr = 20 kHz, change of N_tracts"
   ]
  },
  {
   "cell_type": "code",
   "execution_count": 51,
   "metadata": {},
   "outputs": [],
   "source": [
    "# (Some) geometry parameters and input signal\n",
    "duration = 0.2\n",
    "sr = 40000\n",
    "timestep = 1/sr\n",
    "\n",
    "# Dirac excitation\n",
    "def input_signal(t):\n",
    "    sig = np.zeros((len(t), model.n_io))\n",
    "    sig[:, 0] =   2e-4*(t>100/sr)\n",
    "    return sig\n",
    "\n",
    "L0 = 0.01\n",
    "k_s = 4e6\n",
    "k = k_s*Sw # 845\n",
    "r = 0.8\n",
    "h0 = 0.01"
   ]
  },
  {
   "cell_type": "code",
   "execution_count": 53,
   "metadata": {},
   "outputs": [
    {
     "name": "stdout",
     "output_type": "stream",
     "text": [
      "Mean number of NR iterations : 2.975\n",
      "Max number of NR iterations : 3.0,              step index : 99\n",
      "Simulation for N = 2 finished\n"
     ]
    }
   ],
   "source": [
    "# Simulations loop\n",
    "N_tracts = [2]#, 4, 6, 8, 10, 12, 14, 16]\n",
    "\n",
    "for N in N_tracts:\n",
    "    l0 = 0.17/(2*N)\n",
    "    Sw = 2*l0*L0\n",
    "    # Model generation\n",
    "    model = models.MultipleTractsWithWallsVflow(N, l0, Sw, k, r)\n",
    "\n",
    "    #Init\n",
    "    rhoInit = model.rho0\n",
    "    hInit = L0\n",
    "    mInit = rhoInit*model.Sw*hInit\n",
    "\n",
    "    init = np.zeros(model.n_state)\n",
    "\n",
    "    for i in range(N):\n",
    "        init[i*6+3] = Sw * model.rho0 * h0 # +Sw * model.rho0 * h0  * 2 * (i==0) \n",
    "        init[i*6+4] = h0# +h0 * 2 * (i==1)\n",
    "    \n",
    "    rpmsolver = solver.RPMSolverPHS(model, 1, 1, timestep, max_iter=10,  epsilon = 10**(-10), quad_order = 4)\n",
    "\n",
    "    \n",
    "    proj_input_signal = solver.adc_dac.discretize_Bo0(rpmsolver, input_signal, duration)\n",
    "\n",
    "    xframes, dx_proj, w_proj, y_proj, lambda_proj, iters = rpmsolver.simulate(init, duration, proj_input_signal, f'results/dirac/40kHz/{N}_tracts_vflow.pkl')\n",
    "    print(f'Simulation for N = {N} finished')"
   ]
  },
  {
   "cell_type": "markdown",
   "metadata": {},
   "source": [
    "## 17 tracts, fs = 20kHz, variable quadrature order"
   ]
  },
  {
   "cell_type": "code",
   "execution_count": 2,
   "metadata": {},
   "outputs": [],
   "source": [
    "# (Some) geometry parameters and input signal\n",
    "duration = 0.1\n",
    "sr = 20000\n",
    "timestep = 1/sr\n",
    "\n",
    "# Dirac excitation\n",
    "def input_signal(t):\n",
    "    sig = np.zeros((len(t), model.n_io))\n",
    "    sig[:, 0] =   2e-4 * (t<1/sr)\n",
    "    return sig\n",
    "    \n",
    "\n",
    "N = 17\n",
    "L0 = 0.01\n",
    "k_s = 4e6\n",
    "k = 845 #k_s*Sw\n",
    "r = 0.8\n",
    "h0 = 1e-2\n",
    "l0 = 0.17/(2*N)\n",
    "Sw = 2*l0*L0\n"
   ]
  },
  {
   "cell_type": "code",
   "execution_count": 3,
   "metadata": {},
   "outputs": [],
   "source": [
    "\n",
    "# Model generation\n",
    "model = models.MultipleTractsWithWallsVflow(N, l0, Sw, k, r)\n",
    "\n",
    "# Initialization and input signals\n",
    "rhoInit = model.rho0\n",
    "hInit = L0\n",
    "mInit = rhoInit*model.Sw*hInit\n",
    "\n",
    "#Init\n",
    "rhoInit = model.rho0\n",
    "hInit = L0\n",
    "mInit = rhoInit*model.Sw*hInit\n",
    "init = np.zeros(model.n_state)\n",
    "for i in range(N):\n",
    "    init[i*6+3] = Sw * model.rho0 * h0 \n",
    "    init[i*6+4] = h0 \n"
   ]
  },
  {
   "cell_type": "code",
   "execution_count": 5,
   "metadata": {},
   "outputs": [
    {
     "name": "stdout",
     "output_type": "stream",
     "text": [
      "Mean number of NR iterations : 3.0\n",
      "Max number of NR iterations : 3.0,              step index : 0\n"
     ]
    }
   ],
   "source": [
    "quad_orders = [1] #2, 4, 8, 16, 32]\n",
    "for quad_order in quad_orders:\n",
    "\n",
    "    rpmsolver = solver.RPMSolverPHS(model, 1, 1, timestep, max_iter=200,  epsilon = 10**(-10), quad_order = quad_order)\n",
    "\n",
    "    proj_input_signal = solver.adc_dac.discretize_Bo0(rpmsolver, input_signal, duration)\n",
    "\n",
    "    xframes, dx_proj, w_proj, y_proj, lambda_proj, iters = rpmsolver.simulate(init, duration, proj_input_signal, f'results/dirac/quad_orders/{quad_order}.pkl')"
   ]
  },
  {
   "cell_type": "markdown",
   "metadata": {},
   "source": [
    "## A nice simulation : 10 tracts, quad_order= 4, fs = 40000"
   ]
  },
  {
   "cell_type": "code",
   "execution_count": 5,
   "metadata": {},
   "outputs": [],
   "source": [
    "# (Some) geometry parameters and input signal\n",
    "duration = 0.5\n",
    "sr = 40000\n",
    "timestep = 1/sr\n",
    "\n",
    "# Dirac excitation\n",
    "def input_signal(t):\n",
    "    sig = np.zeros((len(t), model.n_io))\n",
    "    sig[:, 0] =   2e-4 * (t<1/sr)\n",
    "    return sig\n",
    "    \n",
    "\n",
    "N = 10\n",
    "L0 = 0.01\n",
    "k_s = 4e6\n",
    "k = 845 #k_s*Sw\n",
    "r = 0.8\n",
    "h0 = 1e-2\n",
    "l0 = 0.17/(2*N)\n",
    "Sw = 2*l0*L0"
   ]
  },
  {
   "cell_type": "code",
   "execution_count": 6,
   "metadata": {},
   "outputs": [],
   "source": [
    "# Model generation\n",
    "model = models.MultipleTractsWithWallsFull(N, l0, Sw, k, r)\n",
    "\n",
    "# Initialization and input signals\n",
    "rhoInit = model.rho0\n",
    "hInit = L0\n",
    "mInit = rhoInit*model.Sw*hInit\n",
    "\n",
    "#Init\n",
    "rhoInit = model.rho0\n",
    "hInit = L0\n",
    "mInit = rhoInit*model.Sw*hInit\n",
    "init = np.zeros(model.n_state)\n",
    "for i in range(N):\n",
    "    init[i*6+3] = Sw * model.rho0 * h0 \n",
    "    init[i*6+4] = h0 \n"
   ]
  },
  {
   "cell_type": "code",
   "execution_count": 7,
   "metadata": {},
   "outputs": [
    {
     "name": "stdout",
     "output_type": "stream",
     "text": [
      "Mean number of NR iterations : 3.0\n",
      "Max number of NR iterations : 3.0,              step index : 0\n"
     ]
    }
   ],
   "source": [
    "rpmsolver = solver.RPMSolverPHS(model, 1, 1, timestep, max_iter=200,  epsilon = 10**(-10), quad_order = 4)\n",
    "\n",
    "proj_input_signal = solver.adc_dac.discretize_Bo0(rpmsolver, input_signal, duration)\n",
    "\n",
    "xframes, dx_proj, w_proj, y_proj, lambda_proj, iters = rpmsolver.simulate(init, duration, proj_input_signal, f'results/dirac/10_tracts_40k_quad4.pkl')"
   ]
  },
  {
   "cell_type": "markdown",
   "metadata": {},
   "source": [
    "## Tests of vowel articulations"
   ]
  },
  {
   "cell_type": "code",
   "execution_count": 25,
   "metadata": {},
   "outputs": [],
   "source": [
    "# (Some) geometry parameters and input signal\n",
    "duration = 0.1\n",
    "sr = 40000\n",
    "timestep = 1/sr\n",
    "\n",
    "# Noise excitation\n",
    "def input_signal(t):\n",
    "    sig = np.zeros((len(t), model.n_io))\n",
    "    sig[:, 0] =   2e-4 * np.random.random(len(t))\n",
    "    return sig\n",
    "    \n",
    "\n",
    "N = 10\n",
    "L0 = 0.01\n",
    "k_s = 4e6\n",
    "k = 845 #k_s*Sw\n",
    "r = 0.8\n",
    "h0 = 1e-2\n",
    "l0 = 0.17/(2*N)\n",
    "Sw = 2*l0*L0\n",
    "\n",
    "articulations = art.VowelArticulations(L0)\n",
    "articulations.generate_profiles(N)"
   ]
  },
  {
   "cell_type": "code",
   "execution_count": 26,
   "metadata": {},
   "outputs": [],
   "source": [
    "# Model generation\n",
    "model = models.MultipleTractsWithWallsVflow(N, l0, Sw, k, r)\n",
    "\n",
    "# Initialization and input signals\n",
    "rhoInit = model.rho0\n",
    "hInit = L0\n",
    "mInit = rhoInit*model.Sw*hInit\n",
    "\n",
    "vowel = \"i\"\n",
    "#Init\n",
    "rhoInit = model.rho0\n",
    "hInit = L0\n",
    "mInit = rhoInit*model.Sw*hInit\n",
    "init = np.zeros(model.n_state)\n",
    "for i in range(N):\n",
    "    init[i*6+3] = Sw * model.rho0 * articulations.profile[vowel][i]\n",
    "    init[i*6+4] = articulations.profile[vowel][i]\n"
   ]
  },
  {
   "cell_type": "code",
   "execution_count": 24,
   "metadata": {},
   "outputs": [
    {
     "name": "stdout",
     "output_type": "stream",
     "text": [
      "Interruption at t = 0.01815\n"
     ]
    }
   ],
   "source": [
    "rpmsolver = solver.RPMSolverPHS(model, 1, 1, timestep, max_iter=200,  epsilon = 10**(-10), quad_order = 4)\n",
    "\n",
    "proj_input_signal = solver.adc_dac.discretize_Bo0(rpmsolver, input_signal, duration)\n",
    "\n",
    "xframes, dx_proj, w_proj, y_proj, lambda_proj, iters = rpmsolver.simulate(init, duration, proj_input_signal, f'results/vowels/{vowel}/10_40k_noise.pkl')"
   ]
  }
 ],
 "metadata": {
  "interpreter": {
   "hash": "cc8359b43f1f6fd0d086bd9907b7487d1ed31f2f4747e43d1a31f0ae22209771"
  },
  "kernelspec": {
   "display_name": "Python 3 (ipykernel)",
   "language": "python",
   "name": "python3"
  },
  "language_info": {
   "codemirror_mode": {
    "name": "ipython",
    "version": 3
   },
   "file_extension": ".py",
   "mimetype": "text/x-python",
   "name": "python",
   "nbconvert_exporter": "python",
   "pygments_lexer": "ipython3",
   "version": "3.9.7"
  }
 },
 "nbformat": 4,
 "nbformat_minor": 4
}
