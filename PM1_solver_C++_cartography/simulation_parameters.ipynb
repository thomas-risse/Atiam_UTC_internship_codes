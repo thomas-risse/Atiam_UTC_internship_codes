{
 "cells": [
  {
   "cell_type": "markdown",
   "metadata": {},
   "source": [
    "# Generation of parameter files for vocal tract simulation and cartographies"
   ]
  },
  {
   "cell_type": "code",
   "execution_count": 1,
   "metadata": {},
   "outputs": [],
   "source": [
    "import numpy as np\n",
    "import pyDOE as doe\n",
    "import matplotlib.pyplot as plt\n",
    "import h5py\n",
    "\n",
    "#Direct input \n",
    "plt.rcParams['text.latex.preamble']= r\"\\usepackage{lmodern}\"\n",
    "#Options\n",
    "params = {'text.usetex' : True,\n",
    "          'font.size' : 13,\n",
    "          'font.family' : 'lmodern',\n",
    "          }\n",
    "plt.rcParams.update(params) \n",
    "\n",
    "%matplotlib qt5"
   ]
  },
  {
   "cell_type": "markdown",
   "metadata": {},
   "source": [
    "## Generation of the initial DOE : Latin hypercube sampling\n",
    "\n",
    "We here use the existing library pyDOE to generate the initial design of experiments."
   ]
  },
  {
   "cell_type": "markdown",
   "metadata": {},
   "source": [
    "### 2D example : "
   ]
  },
  {
   "cell_type": "code",
   "execution_count": 6,
   "metadata": {},
   "outputs": [
    {
     "data": {
      "text/plain": [
       "<matplotlib.collections.LineCollection at 0x7f46b05be3a0>"
      ]
     },
     "execution_count": 6,
     "metadata": {},
     "output_type": "execute_result"
    }
   ],
   "source": [
    "N_points = 8\n",
    "design = doe.lhs(2, N_points, criterion = 'c')\n",
    "plt.figure(figsize=(3, 3))\n",
    "#plt.suptitle(\"Exemple d'échantillonage latin d'une grille 2D avec 8 points\")\n",
    "#plt.subplot(1, 2, 1)\n",
    "plt.scatter(design[:, 0], design[:, 1], color ='r')\n",
    "plt.xlabel(r'$x_1$')\n",
    "plt.ylabel(r'$x_2$')\n",
    "#plt.title('Points centrés')\n",
    "plt.xlim(0, 1)\n",
    "plt.ylim(0, 1)\n",
    "\n",
    "plt.hlines(np.linspace(0, 1, N_points+1)[1:-1], 0, 1, linestyle = '--', color = 'b')\n",
    "plt.vlines(np.linspace(0, 1, N_points+1)[1:-1], 0, 1, linestyle = '--', color = 'b')\n"
   ]
  },
  {
   "cell_type": "code",
   "execution_count": 7,
   "metadata": {},
   "outputs": [],
   "source": [
    "plt.figure(figsize=(3, 3))\n",
    "#plt.subplot(1, 2, 2)\n",
    "design = doe.lhs(2, N_points)\n",
    "plt.scatter(design[:, 0], design[:, 1], color ='r')\n",
    "plt.xlabel(r'$x_1$')\n",
    "plt.ylabel(r'$x_2$')\n",
    "#plt.title('Points aléatoires')\n",
    "\n",
    "plt.hlines(np.linspace(0, 1, N_points+1)[1:-1], 0, 1, linestyle = '--', color = 'b')\n",
    "plt.vlines(np.linspace(0, 1, N_points+1)[1:-1], 0, 1, linestyle = '--', color = 'b')\n",
    "plt.xlim(0, 1)\n",
    "plt.ylim(0, 1)\n",
    "\n",
    "plt.tight_layout()"
   ]
  },
  {
   "cell_type": "markdown",
   "metadata": {},
   "source": [
    "### Application to the larynx parameters"
   ]
  },
  {
   "cell_type": "code",
   "execution_count": 10,
   "metadata": {},
   "outputs": [],
   "source": [
    "#a0s = np.linspace(6e9, 1e10, 10)\n",
    "#for j, a0 in enumerate(a0s):\n",
    "      # Fixed parameters\n",
    "\n",
    "fixed_params = {\"rho0\":float(1.3),      \"L0\":float(0.011), \"l0\":float(2e-3),  \"h0\":float(1e-4),\n",
    "      \"hr\":float(1e-4),       \"k0\":float(100),   \"k1\":float(97),    \"kappa0\":float(3 * 100),\n",
    "      \"kappa1\":float(3 * 97), \"m\":float(2e-4), \"S_sub\":float(11e-5),\n",
    "      \"S_sup\":float(11e-7), \"q0\":float(0.4),   \"w0\":float(2 * np.pi * 640), \"tdelay\":float(1e-3), \"trise\":float(5e-3), \"tmax\":float(2),\n",
    "      \"r\":float(1.3e-3)}#, \"a0\":float(a0)}\n",
    "fs = float(10000)\n",
    "Te = float(1/fs)\n",
    "epsilon = 1e-10\n",
    "solver_params = {\"fs\":fs, \"Te\":Te, \"epsilon\":epsilon}\n",
    "N_points = 500\n",
    "carto_params = {\"hr\":[0 for i in range(N_points)], \"P0\":[0 for i in range(N_points)], \"a0\":[0 for i in range(N_points)]}\n",
    "carto_limits = {\"hr\":[1e-5, 5e-4], \"P0\":[0,1000], \"a0\":[5e9, 1e10]}\n",
    "carto_scale = {\"hr\":'lin', 'P0':'lin', \"a0\":'lin'}\n",
    "# Generation of the lhs\n",
    "design = doe.lhs(len(carto_params.keys()), N_points)\n",
    "i=0\n",
    "for key, value in carto_params.items():\n",
    "    if carto_scale[key]=='log':\n",
    "        carto_params[key] = np.exp(design[:, i]*(np.log(carto_limits[key][1]) - np.log(carto_limits[key][0])) + np.log(carto_limits[key][0]))\n",
    "    else:\n",
    "        carto_params[key] = np.array(design[:, i]*(carto_limits[key][1] - carto_limits[key][0]) + carto_limits[key][0])\n",
    "    i+=1\n",
    "# Writing in a file\n",
    "filename  =f'simulations_parameters/CartoP0hra0/a0_{0}.hdf5'\n",
    "with h5py.File(filename, \"w\") as f:\n",
    "    grp_fixed_params = f.create_group(\"model/fixed_parameters\")\n",
    "    for key, value in fixed_params.items():\n",
    "        grp_fixed_params.attrs[key] = value\n",
    "    grp_variable_params = f.create_group(\"model/variable_parameters\")\n",
    "    for key, value in carto_params.items():\n",
    "        grp_variable_params.create_dataset(key, data=value)\n",
    "    grp_solver_params = f.create_group(\"solver_parameters\")\n",
    "    for key, value in solver_params.items():\n",
    "        grp_solver_params.attrs[key] = value\n"
   ]
  },
  {
   "cell_type": "code",
   "execution_count": 74,
   "metadata": {},
   "outputs": [
    {
     "data": {
      "text/plain": [
       "<matplotlib.collections.PathCollection at 0x7f0b64075bb0>"
      ]
     },
     "execution_count": 74,
     "metadata": {},
     "output_type": "execute_result"
    }
   ],
   "source": [
    "# Figure\n",
    "fig = plt.figure()\n",
    "ax = fig.add_subplot()#projection='2d')\n",
    "\n",
    "ax.scatter(carto_params['P0'], carto_params['hr'])\n"
   ]
  },
  {
   "cell_type": "markdown",
   "metadata": {},
   "source": []
  },
  {
   "cell_type": "markdown",
   "metadata": {},
   "source": []
  }
 ],
 "metadata": {
  "kernelspec": {
   "display_name": "Python 3.9.7 ('pyphs')",
   "language": "python",
   "name": "python3"
  },
  "language_info": {
   "codemirror_mode": {
    "name": "ipython",
    "version": 3
   },
   "file_extension": ".py",
   "mimetype": "text/x-python",
   "name": "python",
   "nbconvert_exporter": "python",
   "pygments_lexer": "ipython3",
   "version": "3.9.7"
  },
  "orig_nbformat": 4,
  "vscode": {
   "interpreter": {
    "hash": "cc8359b43f1f6fd0d086bd9907b7487d1ed31f2f4747e43d1a31f0ae22209771"
   }
  }
 },
 "nbformat": 4,
 "nbformat_minor": 2
}
